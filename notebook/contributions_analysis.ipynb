{
 "cells": [
  {
   "cell_type": "code",
   "execution_count": 54,
   "metadata": {},
   "outputs": [
    {
     "name": "stderr",
     "output_type": "stream",
     "text": [
      "/tmp/ipykernel_914850/3857445168.py:10: SettingWithCopyWarning: \n",
      "A value is trying to be set on a copy of a slice from a DataFrame\n",
      "\n",
      "See the caveats in the documentation: https://pandas.pydata.org/pandas-docs/stable/user_guide/indexing.html#returning-a-view-versus-a-copy\n",
      "  lappis_gitlab_selected.rename(columns={\n"
     ]
    }
   ],
   "source": [
    "import pandas as pd\n",
    "\n",
    "lappis_data = pd.read_csv('../data/github_data_lappis.csv')\n",
    "lappis_data_gitlab = pd.read_csv('../data/gitlab_data_lappis.csv')\n",
    "\n",
    "lappis_github_selected = lappis_data[['org', 'repo', 'user', 'commits', 'commit_history', 'pull_requests', 'issues', 'languages']]\n",
    "\n",
    "lappis_gitlab_selected = lappis_data_gitlab[['group', 'project', 'name', 'commits', 'commit_history', 'merge_requests', 'issues', 'languages']]\n",
    "\n",
    "lappis_gitlab_selected.rename(columns={\n",
    "    'group': 'org',\n",
    "    'project': 'repo',\n",
    "    'name': 'user',\n",
    "    'merge_requests': 'pull_requests'\n",
    "}, inplace=True)\n",
    "\n",
    "lappis_combined = pd.concat([lappis_github_selected, lappis_gitlab_selected])\n",
    "\n",
    "lappis_combined.to_csv('../data/lappis_combined.csv', index=False)"
   ]
  },
  {
   "cell_type": "code",
   "execution_count": 55,
   "metadata": {},
   "outputs": [],
   "source": [
    "import pandas as pd\n",
    "\n",
    "lappis_data = pd.read_csv('../data/lappis_combined.csv')\n",
    "eps_data = pd.read_csv('../data/github_data_eps_mds.csv')\n",
    "\n",
    "def remove_outliers(df, column):\n",
    "    Q1 = df[column].quantile(0.25)\n",
    "    Q3 = df[column].quantile(0.75)\n",
    "    IQR = Q3 - Q1\n",
    "    lower_bound = Q1 - 1.5 * IQR\n",
    "    upper_bound = Q3 + 1.5 * IQR\n",
    "    df_filtered = df[(df[column] >= lower_bound) & (df[column] <= upper_bound)]\n",
    "    return df_filtered\n",
    "\n",
    "lappis_data_filtered = remove_outliers(lappis_data, 'commits')\n",
    "eps_data_filtered = remove_outliers(eps_data, 'commits')\n"
   ]
  },
  {
   "cell_type": "code",
   "execution_count": 56,
   "metadata": {},
   "outputs": [],
   "source": [
    "repos_lappis = lappis_data_filtered['repo'].nunique()\n",
    "repos_eps = eps_data_filtered['repo'].nunique()\n",
    "\n",
    "sample_size = min(repos_lappis, repos_eps)\n",
    "\n",
    "def amostrar_repositorios(df, sample_size):\n",
    "    repositorios_amostrados = df['repo'].drop_duplicates().sample(n=sample_size, random_state=42)\n",
    "    df_amostrado = df[df['repo'].isin(repositorios_amostrados)]\n",
    "    return df_amostrado\n",
    "\n",
    "balanced_lappis = amostrar_repositorios(lappis_data, sample_size)\n",
    "balanced_eps = amostrar_repositorios(eps_data, sample_size)"
   ]
  },
  {
   "cell_type": "code",
   "execution_count": 57,
   "metadata": {},
   "outputs": [
    {
     "name": "stdout",
     "output_type": "stream",
     "text": [
      "        Total Repositories  Average Commits per Repository  \\\n",
      "Lappis                 147                      281.360544   \n",
      "EPS                    147                      297.149660   \n",
      "\n",
      "        Average Merge Requests per Repository  Average Issues per Repository  \n",
      "Lappis                              10.367347                      22.755102  \n",
      "EPS                                 33.632653                      76.408163  \n"
     ]
    }
   ],
   "source": [
    "import pandas as pd\n",
    "\n",
    "def calculate_repository_summary(df):\n",
    "    total_repositories = df['repo'].nunique()\n",
    "    \n",
    "    average_commits = df.groupby('repo')['commits'].sum().mean()\n",
    "    \n",
    "    average_merge_requests = df.groupby('repo')['pull_requests'].sum().mean()\n",
    "    \n",
    "    average_issues = df.groupby('repo')['issues'].sum().mean()\n",
    "    \n",
    "    return {\n",
    "        'Total Repositories': total_repositories,\n",
    "        'Average Commits per Repository': average_commits,\n",
    "        'Average Merge Requests per Repository': average_merge_requests,\n",
    "        'Average Issues per Repository': average_issues\n",
    "    }\n",
    "\n",
    "metrics_lappis = calculate_repository_summary(balanced_lappis)\n",
    "metrics_eps = calculate_repository_summary(balanced_eps)\n",
    "\n",
    "summary_lappis = pd.DataFrame([metrics_lappis], index=['Lappis'])\n",
    "summary_eps = pd.DataFrame([metrics_eps], index=['EPS'])\n",
    "\n",
    "summary_combined = pd.concat([summary_lappis, summary_eps])\n",
    "\n",
    "print(summary_combined)\n"
   ]
  }
 ],
 "metadata": {
  "kernelspec": {
   "display_name": "venv",
   "language": "python",
   "name": "python3"
  },
  "language_info": {
   "codemirror_mode": {
    "name": "ipython",
    "version": 3
   },
   "file_extension": ".py",
   "mimetype": "text/x-python",
   "name": "python",
   "nbconvert_exporter": "python",
   "pygments_lexer": "ipython3",
   "version": "3.12.3"
  }
 },
 "nbformat": 4,
 "nbformat_minor": 2
}
